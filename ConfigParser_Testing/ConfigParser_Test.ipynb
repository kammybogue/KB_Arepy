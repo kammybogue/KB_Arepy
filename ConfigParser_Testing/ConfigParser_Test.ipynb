{
 "cells": [
  {
   "cell_type": "markdown",
   "metadata": {},
   "source": [
    "# Standard Preamble #"
   ]
  },
  {
   "cell_type": "code",
   "execution_count": 1,
   "metadata": {},
   "outputs": [
    {
     "name": "stderr",
     "output_type": "stream",
     "text": [
      "/cosma/local/Python/2.7.15/lib/python2.7/site-packages/h5py/__init__.py:75: UserWarning: h5py is running against HDF5 1.10.3 when it was built against 1.8.4, this may cause problems\n",
      "  '{0}.{1}.{2}'.format(*version.hdf5_built_version_tuple)\n"
     ]
    }
   ],
   "source": [
    "import numpy as np\n",
    "import matplotlib.pyplot as plt\n",
    "\n",
    "from arepy.read_write import binary_read as rsnap\n",
    "from arepy.read_write import binary_write as wsnap\n",
    "from arepy.utility import cgs_constants as cgs\n",
    "from arepy.utility import snap_utility as sutil\n",
    "\n",
    "import matplotlib.colors as mc\n",
    "from matplotlib.patches import Circle\n",
    "from scipy.interpolate import NearestNDInterpolator\n",
    "from numpy import uint32, uint64, float64, float32\n",
    "import math\n",
    "\n",
    "from scipy import signal\n",
    "from scipy import ndimage\n",
    "\n",
    "import matplotlib.patches as patches\n",
    "\n",
    "########### GENERAL STUFF  ##########\n",
    "\n",
    "#internal arepo units in cgs\n",
    "ulength = 3.0856e20\n",
    "umass = 1.991e33\n",
    "uvel = 1.0e5\n",
    "\n",
    "utime = ulength/uvel\n",
    "udensity = umass/ulength/ulength/ulength\n",
    "uenergy= umass*uvel*uvel\n",
    "ucolumn = umass/ulength/ulength\n",
    "umag = umass**0.5 / ulength**1.5 * uvel\n",
    "\n",
    "uMyr=utime/(60.*60.*24.*365.25*1.e6)\n",
    "\n",
    "uparsec=ulength/3.0856e18"
   ]
  },
  {
   "cell_type": "markdown",
   "metadata": {},
   "source": [
    "# Testing #"
   ]
  },
  {
   "cell_type": "code",
   "execution_count": null,
   "metadata": {},
   "outputs": [],
   "source": [
    "import configparser\n",
    "config = configparser.ConfigParser()\n",
    "\n",
    "config.sections() #this should produce nothing, as no config has been read in yet"
   ]
  },
  {
   "cell_type": "code",
   "execution_count": null,
   "metadata": {},
   "outputs": [],
   "source": [
    "config.read('example.ini') #read in the config file"
   ]
  },
  {
   "cell_type": "code",
   "execution_count": null,
   "metadata": {},
   "outputs": [],
   "source": [
    "config.sections() #now we should see what's in the file, becuase we've read it in above"
   ]
  }
 ],
 "metadata": {
  "kernelspec": {
   "display_name": "Python 2",
   "language": "python",
   "name": "python2"
  },
  "language_info": {
   "codemirror_mode": {
    "name": "ipython",
    "version": 2
   },
   "file_extension": ".py",
   "mimetype": "text/x-python",
   "name": "python",
   "nbconvert_exporter": "python",
   "pygments_lexer": "ipython2",
   "version": "2.7.15"
  }
 },
 "nbformat": 4,
 "nbformat_minor": 2
}
